{
 "cells": [
  {
   "cell_type": "code",
   "execution_count": 3,
   "metadata": {
    "_cell_guid": "b1076dfc-b9ad-4769-8c92-a6c4dae69d19",
    "_uuid": "8f2839f25d086af736a60e9eeb907d3b93b6e0e5",
    "execution": {
     "iopub.execute_input": "2025-03-24T21:23:46.423644Z",
     "iopub.status.busy": "2025-03-24T21:23:46.423367Z",
     "iopub.status.idle": "2025-03-24T21:23:46.691797Z",
     "shell.execute_reply": "2025-03-24T21:23:46.690941Z",
     "shell.execute_reply.started": "2025-03-24T21:23:46.423620Z"
    },
    "trusted": true
   },
   "outputs": [],
   "source": [
    "import numpy as np\n",
    "import pandas as pd\n",
    "import matplotlib.pyplot as plt"
   ]
  },
  {
   "cell_type": "code",
   "execution_count": 4,
   "metadata": {
    "execution": {
     "iopub.execute_input": "2025-03-24T21:23:46.693334Z",
     "iopub.status.busy": "2025-03-24T21:23:46.692944Z",
     "iopub.status.idle": "2025-03-24T21:23:55.860192Z",
     "shell.execute_reply": "2025-03-24T21:23:55.859253Z",
     "shell.execute_reply.started": "2025-03-24T21:23:46.693302Z"
    },
    "trusted": true
   },
   "outputs": [],
   "source": [
    "train_df = pd.read_csv(\"/kaggle/input/emnist/emnist-balanced-train.csv\")\n",
    "test_df = pd.read_csv(\"/kaggle/input/emnist/emnist-balanced-test.csv\")"
   ]
  },
  {
   "cell_type": "code",
   "execution_count": 5,
   "metadata": {
    "execution": {
     "iopub.execute_input": "2025-03-24T21:23:55.862244Z",
     "iopub.status.busy": "2025-03-24T21:23:55.861946Z",
     "iopub.status.idle": "2025-03-24T21:23:55.895105Z",
     "shell.execute_reply": "2025-03-24T21:23:55.894185Z",
     "shell.execute_reply.started": "2025-03-24T21:23:55.862216Z"
    },
    "trusted": true
   },
   "outputs": [
    {
     "data": {
      "text/html": [
       "<div>\n",
       "<style scoped>\n",
       "    .dataframe tbody tr th:only-of-type {\n",
       "        vertical-align: middle;\n",
       "    }\n",
       "\n",
       "    .dataframe tbody tr th {\n",
       "        vertical-align: top;\n",
       "    }\n",
       "\n",
       "    .dataframe thead th {\n",
       "        text-align: right;\n",
       "    }\n",
       "</style>\n",
       "<table border=\"1\" class=\"dataframe\">\n",
       "  <thead>\n",
       "    <tr style=\"text-align: right;\">\n",
       "      <th></th>\n",
       "      <th>45</th>\n",
       "      <th>0</th>\n",
       "      <th>0.1</th>\n",
       "      <th>0.2</th>\n",
       "      <th>0.3</th>\n",
       "      <th>0.4</th>\n",
       "      <th>0.5</th>\n",
       "      <th>0.6</th>\n",
       "      <th>0.7</th>\n",
       "      <th>0.8</th>\n",
       "      <th>...</th>\n",
       "      <th>0.524</th>\n",
       "      <th>0.525</th>\n",
       "      <th>0.526</th>\n",
       "      <th>0.527</th>\n",
       "      <th>0.528</th>\n",
       "      <th>0.529</th>\n",
       "      <th>0.530</th>\n",
       "      <th>0.531</th>\n",
       "      <th>0.532</th>\n",
       "      <th>0.533</th>\n",
       "    </tr>\n",
       "  </thead>\n",
       "  <tbody>\n",
       "    <tr>\n",
       "      <th>0</th>\n",
       "      <td>36</td>\n",
       "      <td>0</td>\n",
       "      <td>0</td>\n",
       "      <td>0</td>\n",
       "      <td>0</td>\n",
       "      <td>0</td>\n",
       "      <td>0</td>\n",
       "      <td>0</td>\n",
       "      <td>0</td>\n",
       "      <td>0</td>\n",
       "      <td>...</td>\n",
       "      <td>0</td>\n",
       "      <td>0</td>\n",
       "      <td>0</td>\n",
       "      <td>0</td>\n",
       "      <td>0</td>\n",
       "      <td>0</td>\n",
       "      <td>0</td>\n",
       "      <td>0</td>\n",
       "      <td>0</td>\n",
       "      <td>0</td>\n",
       "    </tr>\n",
       "    <tr>\n",
       "      <th>1</th>\n",
       "      <td>43</td>\n",
       "      <td>0</td>\n",
       "      <td>0</td>\n",
       "      <td>0</td>\n",
       "      <td>0</td>\n",
       "      <td>0</td>\n",
       "      <td>0</td>\n",
       "      <td>0</td>\n",
       "      <td>0</td>\n",
       "      <td>0</td>\n",
       "      <td>...</td>\n",
       "      <td>0</td>\n",
       "      <td>0</td>\n",
       "      <td>0</td>\n",
       "      <td>0</td>\n",
       "      <td>0</td>\n",
       "      <td>0</td>\n",
       "      <td>0</td>\n",
       "      <td>0</td>\n",
       "      <td>0</td>\n",
       "      <td>0</td>\n",
       "    </tr>\n",
       "    <tr>\n",
       "      <th>2</th>\n",
       "      <td>15</td>\n",
       "      <td>0</td>\n",
       "      <td>0</td>\n",
       "      <td>0</td>\n",
       "      <td>0</td>\n",
       "      <td>0</td>\n",
       "      <td>0</td>\n",
       "      <td>0</td>\n",
       "      <td>0</td>\n",
       "      <td>0</td>\n",
       "      <td>...</td>\n",
       "      <td>0</td>\n",
       "      <td>0</td>\n",
       "      <td>0</td>\n",
       "      <td>0</td>\n",
       "      <td>0</td>\n",
       "      <td>0</td>\n",
       "      <td>0</td>\n",
       "      <td>0</td>\n",
       "      <td>0</td>\n",
       "      <td>0</td>\n",
       "    </tr>\n",
       "    <tr>\n",
       "      <th>3</th>\n",
       "      <td>4</td>\n",
       "      <td>0</td>\n",
       "      <td>0</td>\n",
       "      <td>0</td>\n",
       "      <td>0</td>\n",
       "      <td>0</td>\n",
       "      <td>0</td>\n",
       "      <td>0</td>\n",
       "      <td>0</td>\n",
       "      <td>0</td>\n",
       "      <td>...</td>\n",
       "      <td>0</td>\n",
       "      <td>0</td>\n",
       "      <td>0</td>\n",
       "      <td>0</td>\n",
       "      <td>0</td>\n",
       "      <td>0</td>\n",
       "      <td>0</td>\n",
       "      <td>0</td>\n",
       "      <td>0</td>\n",
       "      <td>0</td>\n",
       "    </tr>\n",
       "    <tr>\n",
       "      <th>4</th>\n",
       "      <td>42</td>\n",
       "      <td>0</td>\n",
       "      <td>0</td>\n",
       "      <td>0</td>\n",
       "      <td>0</td>\n",
       "      <td>0</td>\n",
       "      <td>0</td>\n",
       "      <td>0</td>\n",
       "      <td>0</td>\n",
       "      <td>0</td>\n",
       "      <td>...</td>\n",
       "      <td>0</td>\n",
       "      <td>0</td>\n",
       "      <td>0</td>\n",
       "      <td>0</td>\n",
       "      <td>0</td>\n",
       "      <td>0</td>\n",
       "      <td>0</td>\n",
       "      <td>0</td>\n",
       "      <td>0</td>\n",
       "      <td>0</td>\n",
       "    </tr>\n",
       "  </tbody>\n",
       "</table>\n",
       "<p>5 rows × 785 columns</p>\n",
       "</div>"
      ],
      "text/plain": [
       "   45  0  0.1  0.2  0.3  0.4  0.5  0.6  0.7  0.8  ...  0.524  0.525  0.526  \\\n",
       "0  36  0    0    0    0    0    0    0    0    0  ...      0      0      0   \n",
       "1  43  0    0    0    0    0    0    0    0    0  ...      0      0      0   \n",
       "2  15  0    0    0    0    0    0    0    0    0  ...      0      0      0   \n",
       "3   4  0    0    0    0    0    0    0    0    0  ...      0      0      0   \n",
       "4  42  0    0    0    0    0    0    0    0    0  ...      0      0      0   \n",
       "\n",
       "   0.527  0.528  0.529  0.530  0.531  0.532  0.533  \n",
       "0      0      0      0      0      0      0      0  \n",
       "1      0      0      0      0      0      0      0  \n",
       "2      0      0      0      0      0      0      0  \n",
       "3      0      0      0      0      0      0      0  \n",
       "4      0      0      0      0      0      0      0  \n",
       "\n",
       "[5 rows x 785 columns]"
      ]
     },
     "execution_count": 5,
     "metadata": {},
     "output_type": "execute_result"
    }
   ],
   "source": [
    "train_df.head()"
   ]
  },
  {
   "cell_type": "code",
   "execution_count": 6,
   "metadata": {
    "execution": {
     "iopub.execute_input": "2025-03-24T21:23:55.896665Z",
     "iopub.status.busy": "2025-03-24T21:23:55.896440Z",
     "iopub.status.idle": "2025-03-24T21:23:55.923084Z",
     "shell.execute_reply": "2025-03-24T21:23:55.921767Z",
     "shell.execute_reply.started": "2025-03-24T21:23:55.896628Z"
    },
    "trusted": true
   },
   "outputs": [
    {
     "data": {
      "text/html": [
       "<div>\n",
       "<style scoped>\n",
       "    .dataframe tbody tr th:only-of-type {\n",
       "        vertical-align: middle;\n",
       "    }\n",
       "\n",
       "    .dataframe tbody tr th {\n",
       "        vertical-align: top;\n",
       "    }\n",
       "\n",
       "    .dataframe thead th {\n",
       "        text-align: right;\n",
       "    }\n",
       "</style>\n",
       "<table border=\"1\" class=\"dataframe\">\n",
       "  <thead>\n",
       "    <tr style=\"text-align: right;\">\n",
       "      <th></th>\n",
       "      <th>41</th>\n",
       "      <th>0</th>\n",
       "      <th>0.1</th>\n",
       "      <th>0.2</th>\n",
       "      <th>0.3</th>\n",
       "      <th>0.4</th>\n",
       "      <th>0.5</th>\n",
       "      <th>0.6</th>\n",
       "      <th>0.7</th>\n",
       "      <th>0.8</th>\n",
       "      <th>...</th>\n",
       "      <th>0.523</th>\n",
       "      <th>0.524</th>\n",
       "      <th>0.525</th>\n",
       "      <th>0.526</th>\n",
       "      <th>0.527</th>\n",
       "      <th>0.528</th>\n",
       "      <th>0.529</th>\n",
       "      <th>0.530</th>\n",
       "      <th>0.531</th>\n",
       "      <th>0.532</th>\n",
       "    </tr>\n",
       "  </thead>\n",
       "  <tbody>\n",
       "    <tr>\n",
       "      <th>0</th>\n",
       "      <td>39</td>\n",
       "      <td>0</td>\n",
       "      <td>0</td>\n",
       "      <td>0</td>\n",
       "      <td>0</td>\n",
       "      <td>0</td>\n",
       "      <td>0</td>\n",
       "      <td>0</td>\n",
       "      <td>0</td>\n",
       "      <td>0</td>\n",
       "      <td>...</td>\n",
       "      <td>0</td>\n",
       "      <td>0</td>\n",
       "      <td>0</td>\n",
       "      <td>0</td>\n",
       "      <td>0</td>\n",
       "      <td>0</td>\n",
       "      <td>0</td>\n",
       "      <td>0</td>\n",
       "      <td>0</td>\n",
       "      <td>0</td>\n",
       "    </tr>\n",
       "    <tr>\n",
       "      <th>1</th>\n",
       "      <td>9</td>\n",
       "      <td>0</td>\n",
       "      <td>0</td>\n",
       "      <td>0</td>\n",
       "      <td>0</td>\n",
       "      <td>0</td>\n",
       "      <td>0</td>\n",
       "      <td>0</td>\n",
       "      <td>0</td>\n",
       "      <td>0</td>\n",
       "      <td>...</td>\n",
       "      <td>0</td>\n",
       "      <td>0</td>\n",
       "      <td>0</td>\n",
       "      <td>0</td>\n",
       "      <td>0</td>\n",
       "      <td>0</td>\n",
       "      <td>0</td>\n",
       "      <td>0</td>\n",
       "      <td>0</td>\n",
       "      <td>0</td>\n",
       "    </tr>\n",
       "    <tr>\n",
       "      <th>2</th>\n",
       "      <td>26</td>\n",
       "      <td>0</td>\n",
       "      <td>0</td>\n",
       "      <td>0</td>\n",
       "      <td>0</td>\n",
       "      <td>0</td>\n",
       "      <td>0</td>\n",
       "      <td>0</td>\n",
       "      <td>0</td>\n",
       "      <td>0</td>\n",
       "      <td>...</td>\n",
       "      <td>0</td>\n",
       "      <td>0</td>\n",
       "      <td>0</td>\n",
       "      <td>0</td>\n",
       "      <td>0</td>\n",
       "      <td>0</td>\n",
       "      <td>0</td>\n",
       "      <td>0</td>\n",
       "      <td>0</td>\n",
       "      <td>0</td>\n",
       "    </tr>\n",
       "    <tr>\n",
       "      <th>3</th>\n",
       "      <td>44</td>\n",
       "      <td>0</td>\n",
       "      <td>0</td>\n",
       "      <td>0</td>\n",
       "      <td>0</td>\n",
       "      <td>0</td>\n",
       "      <td>0</td>\n",
       "      <td>0</td>\n",
       "      <td>0</td>\n",
       "      <td>0</td>\n",
       "      <td>...</td>\n",
       "      <td>0</td>\n",
       "      <td>0</td>\n",
       "      <td>0</td>\n",
       "      <td>0</td>\n",
       "      <td>0</td>\n",
       "      <td>0</td>\n",
       "      <td>0</td>\n",
       "      <td>0</td>\n",
       "      <td>0</td>\n",
       "      <td>0</td>\n",
       "    </tr>\n",
       "    <tr>\n",
       "      <th>4</th>\n",
       "      <td>33</td>\n",
       "      <td>0</td>\n",
       "      <td>0</td>\n",
       "      <td>0</td>\n",
       "      <td>0</td>\n",
       "      <td>0</td>\n",
       "      <td>0</td>\n",
       "      <td>0</td>\n",
       "      <td>0</td>\n",
       "      <td>0</td>\n",
       "      <td>...</td>\n",
       "      <td>0</td>\n",
       "      <td>0</td>\n",
       "      <td>0</td>\n",
       "      <td>0</td>\n",
       "      <td>0</td>\n",
       "      <td>0</td>\n",
       "      <td>0</td>\n",
       "      <td>0</td>\n",
       "      <td>0</td>\n",
       "      <td>0</td>\n",
       "    </tr>\n",
       "  </tbody>\n",
       "</table>\n",
       "<p>5 rows × 785 columns</p>\n",
       "</div>"
      ],
      "text/plain": [
       "   41  0  0.1  0.2  0.3  0.4  0.5  0.6  0.7  0.8  ...  0.523  0.524  0.525  \\\n",
       "0  39  0    0    0    0    0    0    0    0    0  ...      0      0      0   \n",
       "1   9  0    0    0    0    0    0    0    0    0  ...      0      0      0   \n",
       "2  26  0    0    0    0    0    0    0    0    0  ...      0      0      0   \n",
       "3  44  0    0    0    0    0    0    0    0    0  ...      0      0      0   \n",
       "4  33  0    0    0    0    0    0    0    0    0  ...      0      0      0   \n",
       "\n",
       "   0.526  0.527  0.528  0.529  0.530  0.531  0.532  \n",
       "0      0      0      0      0      0      0      0  \n",
       "1      0      0      0      0      0      0      0  \n",
       "2      0      0      0      0      0      0      0  \n",
       "3      0      0      0      0      0      0      0  \n",
       "4      0      0      0      0      0      0      0  \n",
       "\n",
       "[5 rows x 785 columns]"
      ]
     },
     "execution_count": 6,
     "metadata": {},
     "output_type": "execute_result"
    }
   ],
   "source": [
    "test_df.head()"
   ]
  },
  {
   "cell_type": "code",
   "execution_count": 7,
   "metadata": {
    "execution": {
     "iopub.execute_input": "2025-03-24T21:23:55.924104Z",
     "iopub.status.busy": "2025-03-24T21:23:55.923832Z",
     "iopub.status.idle": "2025-03-24T21:23:56.184966Z",
     "shell.execute_reply": "2025-03-24T21:23:56.184039Z",
     "shell.execute_reply.started": "2025-03-24T21:23:55.924082Z"
    },
    "trusted": true
   },
   "outputs": [
    {
     "name": "stdout",
     "output_type": "stream",
     "text": [
      "36\n"
     ]
    },
    {
     "data": {
      "image/png": "[encoded data removed]",
      "text/plain": [
       "<Figure size 640x480 with 1 Axes>"
      ]
     },
     "metadata": {},
     "output_type": "display_data"
    }
   ],
   "source": [
    "image_data = train_df.iloc[0, 1:].astype(float).values\n",
    "\n",
    "image = image_data.reshape(28, 28)\n",
    "label = train_df.iloc[0,0]\n",
    "print(label)\n",
    "\n",
    "plt.imshow(image, cmap=\"gray\")\n",
    "plt.title(\"Original Image from CSV\")\n",
    "plt.show()"
   ]
  },
  {
   "cell_type": "code",
   "execution_count": 8,
   "metadata": {
    "execution": {
     "iopub.execute_input": "2025-03-24T21:23:56.186228Z",
     "iopub.status.busy": "2025-03-24T21:23:56.185908Z",
     "iopub.status.idle": "2025-03-24T21:23:56.190320Z",
     "shell.execute_reply": "2025-03-24T21:23:56.189376Z",
     "shell.execute_reply.started": "2025-03-24T21:23:56.186197Z"
    },
    "trusted": true
   },
   "outputs": [],
   "source": [
    "import torch\n",
    "from torch.utils.data import Dataset\n",
    "import torchvision.transforms as transforms\n",
    "from PIL import Image"
   ]
  },
  {
   "cell_type": "code",
   "execution_count": 9,
   "metadata": {
    "execution": {
     "iopub.execute_input": "2025-03-24T21:23:56.191424Z",
     "iopub.status.busy": "2025-03-24T21:23:56.191131Z",
     "iopub.status.idle": "2025-03-24T21:23:56.206559Z",
     "shell.execute_reply": "2025-03-24T21:23:56.205788Z",
     "shell.execute_reply.started": "2025-03-24T21:23:56.191399Z"
    },
    "trusted": true
   },
   "outputs": [],
   "source": [
    "class EMNISTDataset(Dataset):\n",
    "    def __init__(self, dataframe, transform=None):\n",
    "        self.data = dataframe.iloc[:, 1:].values\n",
    "        self.labels = dataframe.iloc[:, 0].values\n",
    "        self.transform = transform\n",
    "\n",
    "    def __len__(self):\n",
    "        return len(self.data)\n",
    "\n",
    "    def __getitem__(self, index):\n",
    "        image = self.data[index].reshape(28, 28).astype('float32')\n",
    "        label = self.labels[index]\n",
    "\n",
    "        image = transforms.functional.to_pil_image(image)\n",
    "\n",
    "        if self.transform:\n",
    "            image = self.transform(image)\n",
    "\n",
    "        return image, label\n"
   ]
  },
  {
   "cell_type": "code",
   "execution_count": 10,
   "metadata": {
    "execution": {
     "iopub.execute_input": "2025-03-24T21:23:56.209461Z",
     "iopub.status.busy": "2025-03-24T21:23:56.209198Z",
     "iopub.status.idle": "2025-03-24T21:23:56.224993Z",
     "shell.execute_reply": "2025-03-24T21:23:56.224212Z",
     "shell.execute_reply.started": "2025-03-24T21:23:56.209436Z"
    },
    "trusted": true
   },
   "outputs": [],
   "source": [
    "transform_train = transforms.Compose([\n",
    "    transforms.RandomRotation(10),  \n",
    "    transforms.RandomAffine(0, translate=(0.1, 0.1)),  \n",
    "    transforms.ToTensor(),  \n",
    "    transforms.Normalize((0.5,), (0.5,))\n",
    "])\n",
    "\n",
    "transform_test = transforms.Compose([\n",
    "    transforms.ToTensor(),\n",
    "    transforms.Normalize((0.5,), (0.5,))\n",
    "])"
   ]
  },
  {
   "cell_type": "code",
   "execution_count": 11,
   "metadata": {
    "execution": {
     "iopub.execute_input": "2025-03-24T21:23:56.226375Z",
     "iopub.status.busy": "2025-03-24T21:23:56.226158Z",
     "iopub.status.idle": "2025-03-24T21:23:56.241286Z",
     "shell.execute_reply": "2025-03-24T21:23:56.240470Z",
     "shell.execute_reply.started": "2025-03-24T21:23:56.226356Z"
    },
    "trusted": true
   },
   "outputs": [],
   "source": [
    "import torch\n",
    "from torch.utils.data import DataLoader\n",
    "\n",
    "train_dataset = EMNISTDataset(train_df, transform=transform_train)\n",
    "test_dataset = EMNISTDataset(test_df, transform=transform_test)\n",
    "\n",
    "train_loader = DataLoader(train_dataset, batch_size=128, shuffle=True, num_workers=0, pin_memory=True)\n",
    "test_loader = DataLoader(test_dataset, batch_size=128, shuffle=False, num_workers=0, pin_memory=True)\n",
    "\n"
   ]
  },
  {
   "cell_type": "code",
   "execution_count": 12,
   "metadata": {
    "execution": {
     "iopub.execute_input": "2025-03-24T21:23:56.242402Z",
     "iopub.status.busy": "2025-03-24T21:23:56.242142Z",
     "iopub.status.idle": "2025-03-24T21:23:56.261557Z",
     "shell.execute_reply": "2025-03-24T21:23:56.260807Z",
     "shell.execute_reply.started": "2025-03-24T21:23:56.242377Z"
    },
    "trusted": true
   },
   "outputs": [],
   "source": [
    "import torch\n",
    "import torch.nn as nn\n",
    "import torch.optim as optim\n",
    "import torch.nn.functional as F\n",
    "\n",
    "class CNN(nn.Module):\n",
    "    def __init__(self):\n",
    "        super(CNN, self).__init__()\n",
    "        self.conv1 = nn.Conv2d(1, 16, kernel_size=3)\n",
    "        self.conv2 = nn.Conv2d(16, 32, kernel_size=3)\n",
    "        self.conv3 = nn.Conv2d(32, 64, kernel_size=3)\n",
    "        self.fc1 = nn.Linear(64 * 22 * 22, 128)  # Adjust based on conv3 output\n",
    "        self.fc2 = nn.Linear(128, 47)\n",
    "        \n",
    "        self.dropout = nn.Dropout(0.6)\n",
    "\n",
    "    def forward(self, x):\n",
    "        x = F.relu(self.conv1(x))\n",
    "        x = F.relu(self.conv2(x))\n",
    "        x = F.relu(self.conv3(x))\n",
    "        x = torch.flatten(x, 1)\n",
    "        x = F.relu(self.fc1(x))\n",
    "        x = self.dropout(x)\n",
    "        x = self.fc2(x)\n",
    "        return x"
   ]
  },
  {
   "cell_type": "code",
   "execution_count": 13,
   "metadata": {
    "execution": {
     "iopub.execute_input": "2025-03-24T21:23:56.262688Z",
     "iopub.status.busy": "2025-03-24T21:23:56.262395Z",
     "iopub.status.idle": "2025-03-24T21:23:56.560305Z",
     "shell.execute_reply": "2025-03-24T21:23:56.559392Z",
     "shell.execute_reply.started": "2025-03-24T21:23:56.262658Z"
    },
    "trusted": true
   },
   "outputs": [
    {
     "data": {
      "text/plain": [
       "CNN(\n",
       "  (conv1): Conv2d(1, 16, kernel_size=(3, 3), stride=(1, 1))\n",
       "  (conv2): Conv2d(16, 32, kernel_size=(3, 3), stride=(1, 1))\n",
       "  (conv3): Conv2d(32, 64, kernel_size=(3, 3), stride=(1, 1))\n",
       "  (fc1): Linear(in_features=30976, out_features=128, bias=True)\n",
       "  (fc2): Linear(in_features=128, out_features=47, bias=True)\n",
       "  (dropout): Dropout(p=0.6, inplace=False)\n",
       ")"
      ]
     },
     "execution_count": 13,
     "metadata": {},
     "output_type": "execute_result"
    }
   ],
   "source": [
    "model = CNN()\n",
    "device = torch.device(\"cuda\" if torch.cuda.is_available() else \"cpu\")\n",
    "model.to(device)"
   ]
  },
  {
   "cell_type": "code",
   "execution_count": 14,
   "metadata": {
    "execution": {
     "iopub.execute_input": "2025-03-24T21:23:56.561404Z",
     "iopub.status.busy": "2025-03-24T21:23:56.561163Z",
     "iopub.status.idle": "2025-03-24T21:23:56.597622Z",
     "shell.execute_reply": "2025-03-24T21:23:56.596885Z",
     "shell.execute_reply.started": "2025-03-24T21:23:56.561383Z"
    },
    "trusted": true
   },
   "outputs": [
    {
     "name": "stdout",
     "output_type": "stream",
     "text": [
      "Label: 33\n",
      "Type of image: <class 'torch.Tensor'>\n"
     ]
    }
   ],
   "source": [
    "image, label = test_dataset[4]\n",
    "\n",
    "print(\"Label:\", label) \n",
    "print(\"Type of image:\", type(image))"
   ]
  },
  {
   "cell_type": "code",
   "execution_count": 15,
   "metadata": {
    "execution": {
     "iopub.execute_input": "2025-03-24T21:23:56.598935Z",
     "iopub.status.busy": "2025-03-24T21:23:56.598521Z",
     "iopub.status.idle": "2025-03-24T21:23:56.602750Z",
     "shell.execute_reply": "2025-03-24T21:23:56.601910Z",
     "shell.execute_reply.started": "2025-03-24T21:23:56.598904Z"
    },
    "trusted": true
   },
   "outputs": [],
   "source": [
    "import torchvision.transforms as transforms\n",
    "to_pil = transforms.ToPILImage()\n",
    "pil_sample = to_pil(image)"
   ]
  },
  {
   "cell_type": "code",
   "execution_count": 16,
   "metadata": {
    "execution": {
     "iopub.execute_input": "2025-03-24T21:23:56.603909Z",
     "iopub.status.busy": "2025-03-24T21:23:56.603600Z",
     "iopub.status.idle": "2025-03-24T21:23:56.620824Z",
     "shell.execute_reply": "2025-03-24T21:23:56.619937Z",
     "shell.execute_reply.started": "2025-03-24T21:23:56.603883Z"
    },
    "trusted": true
   },
   "outputs": [],
   "source": [
    "pil_sample.save(\"test_sample.png\")"
   ]
  },
  {
   "cell_type": "code",
   "execution_count": 17,
   "metadata": {
    "execution": {
     "iopub.execute_input": "2025-03-24T21:23:56.621957Z",
     "iopub.status.busy": "2025-03-24T21:23:56.621678Z",
     "iopub.status.idle": "2025-03-24T21:23:56.637743Z",
     "shell.execute_reply": "2025-03-24T21:23:56.636768Z",
     "shell.execute_reply.started": "2025-03-24T21:23:56.621938Z"
    },
    "trusted": true
   },
   "outputs": [
    {
     "name": "stdout",
     "output_type": "stream",
     "text": [
      "16897024\n",
      "18874368\n"
     ]
    }
   ],
   "source": [
    "print(torch.cuda.memory_allocated())\n",
    "print(torch.cuda.memory_reserved())"
   ]
  },
  {
   "cell_type": "code",
   "execution_count": 18,
   "metadata": {
    "execution": {
     "iopub.execute_input": "2025-03-24T21:23:56.638999Z",
     "iopub.status.busy": "2025-03-24T21:23:56.638689Z",
     "iopub.status.idle": "2025-03-24T21:23:56.653983Z",
     "shell.execute_reply": "2025-03-24T21:23:56.653078Z",
     "shell.execute_reply.started": "2025-03-24T21:23:56.638974Z"
    },
    "trusted": true
   },
   "outputs": [],
   "source": [
    "criterion = nn.CrossEntropyLoss()\n",
    "optimizer = optim.Adam(model.parameters(), lr=0.001)\n",
    "scheduler = torch.optim.lr_scheduler.StepLR(optimizer, step_size=5, gamma=0.7)"
   ]
  },
  {
   "cell_type": "code",
   "execution_count": 19,
   "metadata": {
    "execution": {
     "iopub.execute_input": "2025-03-24T21:23:56.655128Z",
     "iopub.status.busy": "2025-03-24T21:23:56.654805Z",
     "iopub.status.idle": "2025-03-24T21:41:56.666475Z",
     "shell.execute_reply": "2025-03-24T21:41:56.665530Z",
     "shell.execute_reply.started": "2025-03-24T21:23:56.655102Z"
    },
    "trusted": true
   },
   "outputs": [
    {
     "name": "stdout",
     "output_type": "stream",
     "text": [
      "Epoch [1/20], Train Loss: 2.2205\n",
      "Validation Loss: 0.7786, Validation Accuracy: 77.30%\n",
      "Epoch [2/20], Train Loss: 1.6381\n",
      "Validation Loss: 0.6502, Validation Accuracy: 79.36%\n",
      "Epoch [3/20], Train Loss: 1.4734\n",
      "Validation Loss: 0.5885, Validation Accuracy: 81.23%\n",
      "Epoch [4/20], Train Loss: 1.3506\n",
      "Validation Loss: 0.5488, Validation Accuracy: 81.60%\n",
      "Epoch [5/20], Train Loss: 1.2687\n",
      "Validation Loss: 0.5146, Validation Accuracy: 83.15%\n",
      "Epoch [6/20], Train Loss: 1.1997\n",
      "Validation Loss: 0.4993, Validation Accuracy: 82.69%\n",
      "Epoch [7/20], Train Loss: 1.1623\n",
      "Validation Loss: 0.4823, Validation Accuracy: 83.99%\n",
      "Epoch [8/20], Train Loss: 1.1307\n",
      "Validation Loss: 0.4688, Validation Accuracy: 84.28%\n",
      "Epoch [9/20], Train Loss: 1.1067\n",
      "Validation Loss: 0.4673, Validation Accuracy: 84.06%\n",
      "Epoch [10/20], Train Loss: 1.0873\n",
      "Validation Loss: 0.4678, Validation Accuracy: 84.21%\n",
      "Epoch [11/20], Train Loss: 1.0487\n",
      "Validation Loss: 0.4561, Validation Accuracy: 84.63%\n",
      "Epoch [12/20], Train Loss: 1.0355\n",
      "Validation Loss: 0.4515, Validation Accuracy: 84.93%\n",
      "Epoch [13/20], Train Loss: 1.0253\n",
      "Validation Loss: 0.4427, Validation Accuracy: 85.30%\n",
      "Epoch [14/20], Train Loss: 1.0092\n",
      "Validation Loss: 0.4418, Validation Accuracy: 85.25%\n",
      "Epoch [15/20], Train Loss: 0.9980\n",
      "Validation Loss: 0.4410, Validation Accuracy: 85.19%\n",
      "Epoch [16/20], Train Loss: 0.9775\n",
      "Validation Loss: 0.4352, Validation Accuracy: 85.36%\n",
      "Epoch [17/20], Train Loss: 0.9794\n",
      "Validation Loss: 0.4322, Validation Accuracy: 85.24%\n",
      "Epoch [18/20], Train Loss: 0.9635\n",
      "Validation Loss: 0.4316, Validation Accuracy: 85.23%\n",
      "Epoch [19/20], Train Loss: 0.9621\n",
      "Validation Loss: 0.4290, Validation Accuracy: 85.64%\n",
      "Epoch [20/20], Train Loss: 0.9593\n",
      "Validation Loss: 0.4261, Validation Accuracy: 85.55%\n"
     ]
    }
   ],
   "source": [
    "num_epochs = 20  # Total number of training epochs\n",
    "\n",
    "for epoch in range(num_epochs):\n",
    "    # Training\n",
    "    model.train()\n",
    "    running_loss = 0.0\n",
    "    \n",
    "    for images, labels in train_loader:\n",
    "        images, labels = images.to(device), labels.to(device)  # force it to GPU\n",
    "        \n",
    "        outputs = model(images)  # Forward pass\n",
    "        loss = criterion(outputs, labels)  # loss function\n",
    "        \n",
    "        optimizer.zero_grad()  # Reset gradients\n",
    "        loss.backward()  # Backpropagation\n",
    "        optimizer.step()  # Update weights\n",
    "        \n",
    "        running_loss += loss.item()\n",
    "    \n",
    "    scheduler.step()  # Adjust learning rate\n",
    "    epoch_loss = running_loss / len(train_loader)\n",
    "\n",
    "    # Validation\n",
    "    model.eval()\n",
    "    test_loss = 0.0\n",
    "    correct = 0\n",
    "    total = 0\n",
    "    \n",
    "    with torch.no_grad():  # Disable gradients computations\n",
    "        for images, labels in test_loader:\n",
    "            images, labels = images.to(device), labels.to(device)\n",
    "            \n",
    "            outputs = model(images)\n",
    "            loss = criterion(outputs, labels)\n",
    "            \n",
    "            test_loss += loss.item()\n",
    "            \n",
    "            _ , predicted = torch.max(outputs, 1)  # Get predicted labels\n",
    "            \n",
    "            total += labels.size(0)\n",
    "            correct += (predicted == labels).sum().item()\n",
    "    \n",
    "    test_loss /= len(test_loader)\n",
    "    test_accuracy = 100 * correct / total  # Compute accuracy\n",
    "\n",
    "    print(f\"Epoch [{epoch+1}/{num_epochs}], Train Loss: {epoch_loss:.4f}\")\n",
    "    print(f\"Validation Loss: {test_loss:.4f}, Validation Accuracy: {test_accuracy:.2f}%\")\n"
   ]
  },
  {
   "cell_type": "code",
   "execution_count": 20,
   "metadata": {
    "execution": {
     "iopub.execute_input": "2025-03-24T21:41:56.667567Z",
     "iopub.status.busy": "2025-03-24T21:41:56.667294Z",
     "iopub.status.idle": "2025-03-24T21:41:56.695538Z",
     "shell.execute_reply": "2025-03-24T21:41:56.694915Z",
     "shell.execute_reply.started": "2025-03-24T21:41:56.667535Z"
    },
    "trusted": true
   },
   "outputs": [],
   "source": [
    "torch.save(model.state_dict(), \"eminst_model.pt\")"
   ]
  }
 ],
 "metadata": {
  "kaggle": {
   "accelerator": "gpu",
   "dataSources": [
    {
     "datasetId": 7160,
     "sourceId": 10705,
     "sourceType": "datasetVersion"
    }
   ],
   "dockerImageVersionId": 30919,
   "isGpuEnabled": true,
   "isInternetEnabled": true,
   "language": "python",
   "sourceType": "notebook"
  },
  "kernelspec": {
   "display_name": "base",
   "language": "python",
   "name": "python3"
  },
  "language_info": {
   "codemirror_mode": {
    "name": "ipython",
    "version": 3
   },
   "file_extension": ".py",
   "mimetype": "text/x-python",
   "name": "python",
   "nbconvert_exporter": "python",
   "pygments_lexer": "ipython3",
   "version": "3.12.7"
  }
 },
 "nbformat": 4,
 "nbformat_minor": 4
}
